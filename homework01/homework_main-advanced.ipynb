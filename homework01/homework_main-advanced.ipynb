{
 "cells": [
  {
   "cell_type": "markdown",
   "metadata": {},
   "source": [
    "# Homework: Not So Basic Artificial Neural Networks"
   ]
  },
  {
   "cell_type": "markdown",
   "metadata": {},
   "source": [
    "Your task is to implement a simple framework for convolutional neural networks training. While convolutional neural networks is a subject of lecture 3, we expect that there are a lot of students who are familiar with the topic.\n",
    "\n",
    "In order to successfully pass this homework, you will have to:\n",
    "\n",
    "- Implement all the blocks in `homework_modules.ipynb` (esp `Conv2d` and `MaxPool2d` layers). Good implementation should pass all the tests in `homework_test_modules.ipynb`.\n",
    "- Settle with a bit of math in `homework_differentiation.ipynb`\n",
    "- Train a CNN that has at least one `Conv2d` layer, `MaxPool2d` layer and `BatchNormalization` layer and achieves at least 97% accuracy on MNIST test set.\n",
    "\n",
    "Feel free to use `homework_main-basic.ipynb` for debugging or as source of code snippets. "
   ]
  },
  {
   "cell_type": "markdown",
   "metadata": {},
   "source": [
    "Note, that this homework requires sending **multiple** files, please do not forget to include all the files when sending to TA. The list of files:\n",
    "- This notebook with cnn trained\n",
    "- `homework_modules.ipynb`\n",
    "- `homework_differentiation.ipynb`"
   ]
  },
  {
   "cell_type": "code",
   "execution_count": 1,
   "metadata": {},
   "outputs": [],
   "source": [
    "%matplotlib inline\n",
    "from time import time, sleep\n",
    "import numpy as np\n",
    "import matplotlib.pyplot as plt\n",
    "from IPython import display\n",
    "\n",
    "np.random.seed(42)"
   ]
  },
  {
   "cell_type": "code",
   "execution_count": 2,
   "metadata": {},
   "outputs": [],
   "source": [
    "# (re-)load layers\n",
    "%run homework_modules.ipynb"
   ]
  },
  {
   "cell_type": "code",
   "execution_count": 3,
   "metadata": {},
   "outputs": [],
   "source": [
    "# batch generator\n",
    "def get_batches(dataset, batch_size):\n",
    "    X, Y = dataset\n",
    "    n_samples = X.shape[0]\n",
    "        \n",
    "    # Shuffle at the start of epoch\n",
    "    indices = np.arange(n_samples)\n",
    "    np.random.shuffle(indices)\n",
    "    \n",
    "    for start in range(0, n_samples, batch_size):\n",
    "        end = min(start + batch_size, n_samples)\n",
    "        \n",
    "        batch_idx = indices[start:end]\n",
    "    \n",
    "        yield X[batch_idx], Y[batch_idx]"
   ]
  },
  {
   "cell_type": "code",
   "execution_count": 4,
   "metadata": {},
   "outputs": [],
   "source": [
    "import mnist\n",
    "X_train, y_train, X_val, y_val, X_test, y_test = mnist.load_dataset()  # your dataset"
   ]
  },
  {
   "cell_type": "code",
   "execution_count": 5,
   "metadata": {},
   "outputs": [],
   "source": [
    "# Let's add one channel to the [HxW] images -> [1xHxW]\n",
    "X_train = X_train.reshape(X_train.shape[0], 1, X_train.shape[1], X_train.shape[2])\n",
    "X_test = X_test.reshape(X_test.shape[0], 1, X_test.shape[1], X_test.shape[2])\n",
    "X_val = X_val.reshape(X_val.shape[0], 1, X_val.shape[1], X_val.shape[2])"
   ]
  },
  {
   "cell_type": "code",
   "execution_count": 6,
   "metadata": {},
   "outputs": [],
   "source": [
    "assert X_train.shape[1:] == (1, 28, 28), 'wrong X_train shape'\n",
    "assert X_test.shape[1:] == (1, 28, 28), 'wrong X_test shape'\n",
    "assert X_val.shape[1:] == (1, 28, 28), 'wrong X_val shape'"
   ]
  },
  {
   "cell_type": "code",
   "execution_count": 7,
   "metadata": {},
   "outputs": [
    {
     "name": "stderr",
     "output_type": "stream",
     "text": [
      "/Users/vkonyakhin/anaconda3/envs/torch/lib/python3.7/site-packages/sklearn/preprocessing/_encoders.py:415: FutureWarning: The handling of integer data will change in version 0.22. Currently, the categories are determined based on the range [0, max(values)], while in the future they will be determined based on the unique values.\n",
      "If you want the future behaviour and silence this warning, you can specify \"categories='auto'\".\n",
      "In case you used a LabelEncoder before this OneHotEncoder to convert the categories to integers, then you can now use the OneHotEncoder directly.\n",
      "  warnings.warn(msg, FutureWarning)\n"
     ]
    }
   ],
   "source": [
    "from sklearn.preprocessing import OneHotEncoder\n",
    "from sklearn.metrics import accuracy_score\n",
    "\n",
    "encoder = OneHotEncoder(sparse=False)\n",
    "y_train_enc = encoder.fit_transform(y_train.reshape(-1, 1))"
   ]
  },
  {
   "cell_type": "code",
   "execution_count": 8,
   "metadata": {},
   "outputs": [],
   "source": [
    "# Let's start with defining our model's architecture\n",
    "\n",
    "# [Conv2d -> BatchNorm -> ReLU -> MaxPool]*2 -> Dense 128 -> Dense 10 -> LogSoftMax\n",
    "net = Sequential()\n",
    "net.add(Conv2d(1, 32, 3))\n",
    "net.add(BatchNormalization(alpha=.5))\n",
    "net.add(ReLU())\n",
    "net.add(MaxPool2d(2))\n",
    "net.add(Conv2d(32, 48, 3))\n",
    "net.add(ReLU())\n",
    "net.add(MaxPool2d(2))\n",
    "net.add(Flatten())\n",
    "net.add(Dropout(0.25))\n",
    "net.add(Linear(2352, 128))\n",
    "net.add(Linear(128, 10))\n",
    "net.add(LogSoftMax())\n",
    "\n",
    "# Cross-Entropy Loss\n",
    "criterion = ClassNLLCriterion()"
   ]
  },
  {
   "cell_type": "code",
   "execution_count": 9,
   "metadata": {},
   "outputs": [],
   "source": [
    "# Define HyperParameters\n",
    "n_epoch = 3\n",
    "batch_size = 128\n",
    "\n",
    "# Optimizer\n",
    "optimizer_config = {'learning_rate' : 1e-3, 'beta1': 0.9, 'beta2': 0.999, 'epsilon': 1e-8}\n",
    "optimizer_state = {}"
   ]
  },
  {
   "cell_type": "code",
   "execution_count": 10,
   "metadata": {},
   "outputs": [
    {
     "name": "stdout",
     "output_type": "stream",
     "text": [
      "Epoch 0 started...\n",
      "Epoch 0 mean loss: 0.197\n",
      "Validation 0 epoch accuracy: 0.979\n",
      "Epoch 1 started...\n",
      "Epoch 1 mean loss: 0.070\n",
      "Validation 1 epoch accuracy: 0.985\n",
      "Epoch 2 started...\n",
      "Epoch 2 mean loss: 0.054\n",
      "Validation 2 epoch accuracy: 0.984\n"
     ]
    }
   ],
   "source": [
    "for i in range(n_epoch):\n",
    "    print(\"Epoch {} started...\".format(i))\n",
    "    \n",
    "    net.train()\n",
    "    epoch_losses = []\n",
    "    for x_batch, y_batch in (get_batches((X_train, y_train_enc), batch_size)):\n",
    "        \n",
    "        net.zeroGradParameters()\n",
    "        \n",
    "        # Forward\n",
    "        predictions = net.forward(x_batch)\n",
    "        loss = criterion.forward(predictions, y_batch)\n",
    "        \n",
    "        # Backward\n",
    "        dL = criterion.backward(predictions, y_batch)\n",
    "        net.backward(x_batch, dL)\n",
    "        \n",
    "        # Update weights\n",
    "        adam_optimizer(net.getParameters(), \n",
    "                       net.getGradParameters(), \n",
    "                       optimizer_config,\n",
    "                       optimizer_state)      \n",
    "        \n",
    "        epoch_losses.append(loss)\n",
    "    \n",
    "    print(\"Epoch {} mean loss: {:.3f}\".format(i, np.mean(epoch_losses)))\n",
    "    \n",
    "    net.evaluate()\n",
    "    y_true, y_pred = [], []\n",
    "    for x_batch, y_batch in (get_batches((X_val, y_val), batch_size)):\n",
    "        batch_output = net.forward(x_batch)\n",
    "        y_pred += list(np.argmax(batch_output, axis=1))\n",
    "        y_true += list(y_batch)\n",
    "        \n",
    "    print(\"Validation {} epoch accuracy: {:.3f}\".format(i, accuracy_score(y_true, y_pred)))"
   ]
  },
  {
   "cell_type": "markdown",
   "metadata": {},
   "source": [
    "Print here your accuracy on test set. It should be >97%. Don't forget to switch the network in 'evaluate' mode"
   ]
  },
  {
   "cell_type": "code",
   "execution_count": 13,
   "metadata": {},
   "outputs": [
    {
     "name": "stdout",
     "output_type": "stream",
     "text": [
      "Test accuracy: 0.984\n"
     ]
    }
   ],
   "source": [
    "net.evaluate()\n",
    "\n",
    "y_true, y_pred = [], []\n",
    "for x_batch, y_batch in (get_batches((X_test, y_test), batch_size)):\n",
    "    batch_output = net.forward(x_batch)\n",
    "    \n",
    "    y_pred += list(np.argmax(batch_output, axis=1))\n",
    "    y_true += list(y_batch)\n",
    "\n",
    "print(\"Test accuracy: {:.3f}\".format(accuracy_score(y_true, y_pred)))"
   ]
  }
 ],
 "metadata": {
  "kernelspec": {
   "display_name": "Python 3",
   "language": "python",
   "name": "python3"
  },
  "language_info": {
   "codemirror_mode": {
    "name": "ipython",
    "version": 3
   },
   "file_extension": ".py",
   "mimetype": "text/x-python",
   "name": "python",
   "nbconvert_exporter": "python",
   "pygments_lexer": "ipython3",
   "version": "3.7.6"
  }
 },
 "nbformat": 4,
 "nbformat_minor": 1
}
