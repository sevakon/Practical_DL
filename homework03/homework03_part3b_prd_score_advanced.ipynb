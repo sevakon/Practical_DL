{
 "cells": [
  {
   "cell_type": "markdown",
   "metadata": {},
   "source": [
    "Original paper: https://arxiv.org/abs/1806.00035"
   ]
  },
  {
   "cell_type": "markdown",
   "metadata": {},
   "source": [
    "# 0. Read real and generated images#"
   ]
  },
  {
   "cell_type": "code",
   "execution_count": 1,
   "metadata": {},
   "outputs": [],
   "source": [
    "import math\n",
    "import numpy as np\n",
    "import matplotlib.pyplot as plt\n",
    "import matplotlib.lines as mlines\n",
    "import matplotlib"
   ]
  },
  {
   "cell_type": "code",
   "execution_count": 2,
   "metadata": {},
   "outputs": [],
   "source": [
    "CHANNEL_NUM = 3\n",
    "PICTURE_SIZE = 36\n",
    "N_IMAGES = 13143"
   ]
  },
  {
   "cell_type": "code",
   "execution_count": 3,
   "metadata": {},
   "outputs": [],
   "source": [
    "class ParticleDataset():\n",
    "    def __init__(self, file):\n",
    "        self.data = np.load(file)\n",
    "        self.image = self.data['Pictures'].reshape(-1, CHANNEL_NUM*PICTURE_SIZE*PICTURE_SIZE)\n",
    "\n",
    "    def __len__(self):\n",
    "        return len(self.image)\n",
    "\n",
    "    def __getitem__(self, i):\n",
    "        return {\n",
    "            \"Pictures\": self.image[i],\n",
    "        }"
   ]
  },
  {
   "cell_type": "code",
   "execution_count": 4,
   "metadata": {},
   "outputs": [],
   "source": [
    "real_data = ParticleDataset('real.npz')\n",
    "vae_data = ParticleDataset('vae.npz')\n",
    "gan_data = ParticleDataset('gan.npz')"
   ]
  },
  {
   "cell_type": "markdown",
   "metadata": {},
   "source": [
    "Make sure that the values of real and generated data are of the same order - it is important for cooperative binarizing"
   ]
  },
  {
   "cell_type": "code",
   "execution_count": 5,
   "metadata": {},
   "outputs": [
    {
     "name": "stdout",
     "output_type": "stream",
     "text": [
      "0.0 0.996078431372549\n",
      "0.0 0.99607843\n",
      "0.0 1.0\n"
     ]
    }
   ],
   "source": [
    "print (np.min(real_data.image), np.max(real_data.image))\n",
    "print (np.min(gan_data.image), np.max(gan_data.image))\n",
    "print (np.min(vae_data.image), np.max(vae_data.image))"
   ]
  },
  {
   "cell_type": "code",
   "execution_count": 6,
   "metadata": {},
   "outputs": [
    {
     "data": {
      "text/plain": [
       "{'Pictures': array([0.61839616, 0.44413477, 0.29612473, ..., 0.39931136, 0.31908587,\n",
       "        0.2899297 ], dtype=float32)}"
      ]
     },
     "execution_count": 6,
     "metadata": {},
     "output_type": "execute_result"
    }
   ],
   "source": [
    "gan_data[2]"
   ]
  },
  {
   "cell_type": "markdown",
   "metadata": {},
   "source": [
    "# 1. Binarize# "
   ]
  },
  {
   "cell_type": "markdown",
   "metadata": {},
   "source": [
    "To understand how real and generated objects are close to each other, we need to choose a space of features in which we look these objects at"
   ]
  },
  {
   "cell_type": "markdown",
   "metadata": {},
   "source": [
    "We go the easiest way and take pixels' values as features."
   ]
  },
  {
   "cell_type": "code",
   "execution_count": 7,
   "metadata": {},
   "outputs": [],
   "source": [
    "from sklearn.cluster import KMeans, MiniBatchKMeans\n",
    "import math\n",
    "## function which map object to probability distribution ##\n",
    "\n",
    "def bin_counts (real_data, generated_data, n_clusters=25):\n",
    "    cluster_data = np.vstack([generated_data, real_data])\n",
    "    kmeans = MiniBatchKMeans(n_clusters=n_clusters, n_init=10)\n",
    "    labels = kmeans.fit(cluster_data).labels_\n",
    "    \n",
    "    generated_labels = labels[:len(generated_data)]\n",
    "    real_labels = labels[len(generated_data):]\n",
    "\n",
    "    gen_density = np.histogram(generated_labels, bins=n_clusters,\n",
    "                               range=[0, n_clusters], density=True)[0]\n",
    "    real_density = np.histogram(real_labels, bins=n_clusters,\n",
    "                                range=[0, n_clusters], density=True)[0]\n",
    "    \n",
    "    return real_density, gen_density"
   ]
  },
  {
   "cell_type": "markdown",
   "metadata": {},
   "source": [
    "Create $\\alpha-$ and $\\beta-$ vectors as in\n",
    "\n",
    "$\\hat{PRD}(Q,P) = \\{(\\alpha(\\lambda), \\beta(\\lambda))| \\lambda \\in \\Lambda \\}$, where $\\Lambda = \\{\\tan (\\frac{i}{m+1} \\frac{\\pi}{2}) | i = 1, 2 ... m\\}$"
   ]
  },
  {
   "cell_type": "code",
   "execution_count": 8,
   "metadata": {},
   "outputs": [],
   "source": [
    "def count_alpha_beta (real_density, gen_density, num_angles = 1000):\n",
    "    assert real_density.shape == gen_density.shape\n",
    "    alpha_vec = []\n",
    "    beta_vec = []\n",
    "    angles = np.linspace(1e-6, np.pi/2 - 1e-6, num=num_angles)\n",
    "    slopes = np.tan(angles)\n",
    "    slopes_2d = np.expand_dims(slopes, 1)\n",
    "    \n",
    "    real_density_2d = np.expand_dims(real_density, 0)\n",
    "    gen_density_2d = np.expand_dims(gen_density, 0)\n",
    "    \n",
    "    precision = np.minimum(real_density_2d*slopes_2d, gen_density_2d).sum(axis=1)\n",
    "    recall = precision / slopes\n",
    "\n",
    "    return precision, recall"
   ]
  },
  {
   "cell_type": "markdown",
   "metadata": {},
   "source": [
    "For stability, take the average of several repetitions"
   ]
  },
  {
   "cell_type": "code",
   "execution_count": 9,
   "metadata": {},
   "outputs": [],
   "source": [
    "def count_prd(reals, gens, repeat_number = 10):\n",
    "    vectors = [count_alpha_beta(reals, gens) for i in range(repeat_number)]\n",
    "    vectors = np.array(vectors).mean(axis=0)\n",
    "    return vectors"
   ]
  },
  {
   "cell_type": "markdown",
   "metadata": {},
   "source": [
    "## 2. Apply it##"
   ]
  },
  {
   "cell_type": "code",
   "execution_count": 10,
   "metadata": {},
   "outputs": [],
   "source": [
    "a, b = bin_counts(real_data.image, vae_data.image)\n",
    "c, d = bin_counts(real_data.image, gan_data.image)"
   ]
  },
  {
   "cell_type": "markdown",
   "metadata": {},
   "source": [
    "## 3. Make vectors for plot and plot ##"
   ]
  },
  {
   "cell_type": "code",
   "execution_count": 11,
   "metadata": {},
   "outputs": [],
   "source": [
    "data_for_plots = count_prd(a, b)\n",
    "data_for_plots2 = count_prd(c, d)"
   ]
  },
  {
   "cell_type": "code",
   "execution_count": 12,
   "metadata": {},
   "outputs": [
    {
     "data": {
      "image/png": "[encoded data removed]",
      "text/plain": [
       "<Figure size 500x500 with 1 Axes>"
      ]
     },
     "metadata": {
      "needs_background": "light"
     },
     "output_type": "display_data"
    }
   ],
   "source": [
    "fig = plt.figure(figsize=(2.5, 2.5), dpi=200)\n",
    "fig.add_subplot(111).tick_params(axis='both', which='major', labelsize=8)\n",
    "plt.xlim([0, 1])\n",
    "plt.ylim([0, 1])\n",
    "plt.xlabel('Recall', fontsize=12)\n",
    "plt.ylabel('Precision', fontsize=12)\n",
    "plt.plot(data_for_plots[0], data_for_plots[1], label = \"VAE\")\n",
    "plt.plot(data_for_plots2[0], data_for_plots2[1], label = \"GAN\")\n",
    "plt.legend()\n",
    "plt.show()"
   ]
  },
  {
   "cell_type": "markdown",
   "metadata": {},
   "source": [
    "**Q: What curves were obtained for the first (VAE) and the second (GAN) models? What can we say about the advantages and disadvantages of each model?**"
   ]
  },
  {
   "cell_type": "markdown",
   "metadata": {},
   "source": [
    "A: Looking at the Precision-Recall curves, we can assume that GAN was more successful at generating face images closer to the real faces. However, looking at GAN's images, one can see different artifacts, while VAE images are smooth and clear. VAE trains way faster and more stable than GAN, but does not achieve the level of \"realness\" of the faces that GAN has."
   ]
  },
  {
   "cell_type": "markdown",
   "metadata": {
    "collapsed": true
   },
   "source": [
    "## Bonus: about features' space##\n",
    "\n",
    "It is possible to transfer the picture-> embedding, for example, using the 1st part of the Inception network as a feature extraxtor. This embedding can be used for bin counts also"
   ]
  },
  {
   "cell_type": "code",
   "execution_count": 13,
   "metadata": {},
   "outputs": [],
   "source": [
    "# if you came here and still alive, the implementation of idea above will give you extra points =)\n",
    "import torch\n",
    "import torch.nn as nn\n",
    "import torch.nn.functional as F\n",
    "import torchvision.models as models\n",
    "from torchvision import transforms"
   ]
  },
  {
   "cell_type": "code",
   "execution_count": 14,
   "metadata": {},
   "outputs": [],
   "source": [
    "class InceptionWrapper(nn.Module):\n",
    "    \"\"\"Feature Extractor based on the 1st part of InceptionNet \"\"\"\n",
    "    \n",
    "    def __init__(self):\n",
    "        super(InceptionWrapper, self).__init__()\n",
    "        self.model = models.inception_v3(pretrained=True)\n",
    "        del self.model.fc\n",
    "        \n",
    "    def forward(self, x):\n",
    "        x = self.model.Conv2d_1a_3x3(x)\n",
    "        x = self.model.Conv2d_2a_3x3(x)\n",
    "        x = self.model.Conv2d_2b_3x3(x)\n",
    "        x = F.max_pool2d(x, kernel_size=3, stride=2)\n",
    "        x = self.model.Conv2d_3b_1x1(x)\n",
    "        x = self.model.Conv2d_4a_3x3(x)\n",
    "        x = F.max_pool2d(x, kernel_size=3, stride=2)\n",
    "        x = self.model.Mixed_5b(x)\n",
    "        x = self.model.Mixed_5c(x)\n",
    "        x = self.model.Mixed_5d(x)\n",
    "        x = torch.flatten(x, 1)\n",
    "        return x\n",
    "    \n",
    "    \n",
    "feature_extractor = InceptionWrapper()"
   ]
  },
  {
   "cell_type": "code",
   "execution_count": 15,
   "metadata": {},
   "outputs": [
    {
     "name": "stdout",
     "output_type": "stream",
     "text": [
      "Feature space # dimensions: 1152\n"
     ]
    }
   ],
   "source": [
    "x = torch.rand(1, CHANNEL_NUM, PICTURE_SIZE, PICTURE_SIZE)\n",
    "output = feature_extractor(x)\n",
    "print('Feature space # dimensions: {}'.format(output.shape[1]))"
   ]
  },
  {
   "cell_type": "code",
   "execution_count": 16,
   "metadata": {},
   "outputs": [],
   "source": [
    "real_data_input = torch.from_numpy(real_data.image.reshape((N_IMAGES, PICTURE_SIZE, PICTURE_SIZE, CHANNEL_NUM)).transpose(0, 3, 1, 2))\n",
    "vae_data_input = torch.from_numpy(vae_data.image.reshape((N_IMAGES, PICTURE_SIZE, PICTURE_SIZE, CHANNEL_NUM)).transpose(0, 3, 1, 2))\n",
    "gan_data_input = torch.from_numpy(gan_data.image.reshape((N_IMAGES, PICTURE_SIZE, PICTURE_SIZE, CHANNEL_NUM)).transpose(0, 3, 1, 2))"
   ]
  },
  {
   "cell_type": "code",
   "execution_count": 17,
   "metadata": {},
   "outputs": [],
   "source": [
    "normalize = transforms.Normalize(mean=[0.485, 0.456, 0.406],\n",
    "                                 std=[0.229, 0.224, 0.225])"
   ]
  },
  {
   "cell_type": "code",
   "execution_count": 18,
   "metadata": {},
   "outputs": [],
   "source": [
    "for i in range(N_IMAGES):\n",
    "    real_data_input[i] = normalize(real_data_input[i])\n",
    "    vae_data_input[i] = normalize(vae_data_input[i])\n",
    "    gan_data_input[i] = normalize(gan_data_input[i])"
   ]
  },
  {
   "cell_type": "code",
   "execution_count": 19,
   "metadata": {},
   "outputs": [],
   "source": [
    "with torch.no_grad():\n",
    "    real_data_space = feature_extractor(real_data_input.float())\n",
    "    del real_data_input"
   ]
  },
  {
   "cell_type": "code",
   "execution_count": 20,
   "metadata": {},
   "outputs": [],
   "source": [
    "with torch.no_grad():\n",
    "    vae_data_space = feature_extractor(vae_data_input.float())\n",
    "    del vae_data_input"
   ]
  },
  {
   "cell_type": "code",
   "execution_count": 21,
   "metadata": {},
   "outputs": [],
   "source": [
    "with torch.no_grad():\n",
    "    gan_data_space = feature_extractor(gan_data_input.float())\n",
    "    del gan_data_input"
   ]
  },
  {
   "cell_type": "code",
   "execution_count": 23,
   "metadata": {},
   "outputs": [],
   "source": [
    "a, b = bin_counts(real_data_space, vae_data_space)\n",
    "c, d = bin_counts(real_data_space, gan_data_space)"
   ]
  },
  {
   "cell_type": "code",
   "execution_count": 24,
   "metadata": {},
   "outputs": [],
   "source": [
    "data_for_plots = count_prd(a, b)\n",
    "data_for_plots2 = count_prd(c, d)"
   ]
  },
  {
   "cell_type": "code",
   "execution_count": 25,
   "metadata": {},
   "outputs": [
    {
     "data": {
      "image/png": "[encoded data removed]",
      "text/plain": [
       "<Figure size 500x500 with 1 Axes>"
      ]
     },
     "metadata": {
      "needs_background": "light"
     },
     "output_type": "display_data"
    }
   ],
   "source": [
    "fig = plt.figure(figsize=(2.5, 2.5), dpi=200)\n",
    "fig.add_subplot(111).tick_params(axis='both', which='major', labelsize=8)\n",
    "plt.xlim([0, 1])\n",
    "plt.ylim([0, 1])\n",
    "plt.xlabel('Recall', fontsize=12)\n",
    "plt.ylabel('Precision', fontsize=12)\n",
    "plt.plot(data_for_plots[0], data_for_plots[1], label = \"VAE\")\n",
    "plt.plot(data_for_plots2[0], data_for_plots2[1], label = \"GAN\")\n",
    "plt.legend()\n",
    "plt.show()"
   ]
  }
 ],
 "metadata": {
  "kernelspec": {
   "display_name": "Python 3",
   "language": "python",
   "name": "python3"
  },
  "language_info": {
   "codemirror_mode": {
    "name": "ipython",
    "version": 3
   },
   "file_extension": ".py",
   "mimetype": "text/x-python",
   "name": "python",
   "nbconvert_exporter": "python",
   "pygments_lexer": "ipython3",
   "version": "3.7.6"
  }
 },
 "nbformat": 4,
 "nbformat_minor": 2
}
